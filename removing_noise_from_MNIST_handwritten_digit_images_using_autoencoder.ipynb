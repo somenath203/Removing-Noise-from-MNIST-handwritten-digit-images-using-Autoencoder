{
 "cells": [
  {
   "cell_type": "markdown",
   "id": "8e5fe373",
   "metadata": {},
   "source": [
    "## Importing Necessary Libraries"
   ]
  },
  {
   "cell_type": "code",
   "execution_count": 1,
   "id": "d631c579",
   "metadata": {},
   "outputs": [
    {
     "name": "stdout",
     "output_type": "stream",
     "text": [
      "WARNING:tensorflow:From C:\\Users\\Somenath\\AppData\\Roaming\\Python\\Python311\\site-packages\\keras\\src\\losses.py:2976: The name tf.losses.sparse_softmax_cross_entropy is deprecated. Please use tf.compat.v1.losses.sparse_softmax_cross_entropy instead.\n",
      "\n"
     ]
    }
   ],
   "source": [
    "import numpy as np\n",
    "import pandas as pd \n",
    "import matplotlib.pyplot as plt\n",
    "%matplotlib inline\n",
    "import tensorflow as tf \n",
    "from tensorflow.keras.datasets import mnist\n",
    "from tensorflow.keras.models import Sequential\n",
    "from tensorflow.keras.layers import Dense, Flatten, Reshape\n",
    "from tensorflow.keras.layers import GaussianNoise"
   ]
  },
  {
   "cell_type": "markdown",
   "id": "aaf89ae1",
   "metadata": {},
   "source": [
    "## Loading the images from MNIST dataset"
   ]
  },
  {
   "cell_type": "code",
   "execution_count": 2,
   "id": "360b9d4f",
   "metadata": {},
   "outputs": [],
   "source": [
    "(X_train, y_train), (X_test, y_test) = mnist.load_data()"
   ]
  },
  {
   "cell_type": "code",
   "execution_count": 3,
   "id": "74da0788",
   "metadata": {},
   "outputs": [
    {
     "data": {
      "text/plain": [
       "<matplotlib.image.AxesImage at 0x20eeff75a10>"
      ]
     },
     "execution_count": 3,
     "metadata": {},
     "output_type": "execute_result"
    },
    {
     "data": {
      "image/png": "[encoded data removed]",
      "text/plain": [
       "<Figure size 640x480 with 1 Axes>"
      ]
     },
     "metadata": {},
     "output_type": "display_data"
    }
   ],
   "source": [
    "plt.imshow(X_train[0])"
   ]
  },
  {
   "cell_type": "markdown",
   "id": "9c3ebbb1",
   "metadata": {},
   "source": [
    "## Normalizing the images"
   ]
  },
  {
   "cell_type": "code",
   "execution_count": 4,
   "id": "20c3fcf3",
   "metadata": {},
   "outputs": [],
   "source": [
    "X_train_scaled = X_train / 255\n",
    "X_test_scaled = X_test / 255"
   ]
  },
  {
   "cell_type": "markdown",
   "id": "68f0ff06",
   "metadata": {},
   "source": [
    "## Setting the random seed"
   ]
  },
  {
   "cell_type": "code",
   "execution_count": 5,
   "id": "a62a2331",
   "metadata": {},
   "outputs": [],
   "source": [
    "tf.random.set_seed(101)"
   ]
  },
  {
   "cell_type": "markdown",
   "id": "2eca97d9",
   "metadata": {},
   "source": [
    "## Creating the encoder"
   ]
  },
  {
   "cell_type": "code",
   "execution_count": 6,
   "id": "51df178b",
   "metadata": {},
   "outputs": [
    {
     "name": "stdout",
     "output_type": "stream",
     "text": [
      "WARNING:tensorflow:From C:\\Users\\Somenath\\AppData\\Roaming\\Python\\Python311\\site-packages\\keras\\src\\backend.py:873: The name tf.get_default_graph is deprecated. Please use tf.compat.v1.get_default_graph instead.\n",
      "\n"
     ]
    }
   ],
   "source": [
    "encoder = Sequential()\n",
    "\n",
    "encoder.add(Flatten(input_shape=[28,28]))\n",
    "\n",
    "encoder.add(GaussianNoise(0.2)) # it will add noise to the images\n",
    "\n",
    "encoder.add(Dense(400, activation='relu'))\n",
    "encoder.add(Dense(200, activation='relu'))\n",
    "encoder.add(Dense(100, activation='relu'))\n",
    "encoder.add(Dense(50, activation='relu'))\n",
    "encoder.add(Dense(25, activation='relu'))"
   ]
  },
  {
   "cell_type": "markdown",
   "id": "11ad1c3e",
   "metadata": {},
   "source": [
    "## Creating the decoder"
   ]
  },
  {
   "cell_type": "code",
   "execution_count": 7,
   "id": "adc669a5",
   "metadata": {},
   "outputs": [],
   "source": [
    "decoder = Sequential()\n",
    "\n",
    "decoder.add(Dense(50, input_shape=[25], activation='relu')) \n",
    "decoder.add(Dense(100, activation='relu'))\n",
    "decoder.add(Dense(200, activation='relu'))\n",
    "decoder.add(Dense(400, activation='relu'))\n",
    "decoder.add(Dense(784, activation='sigmoid'))\n",
    "decoder.add(Reshape([28,28]))"
   ]
  },
  {
   "cell_type": "markdown",
   "id": "9c67779b",
   "metadata": {},
   "source": [
    "## Creating and training the Autoencoder"
   ]
  },
  {
   "cell_type": "code",
   "execution_count": 8,
   "id": "d22aabb9",
   "metadata": {},
   "outputs": [],
   "source": [
    "noise_remover_autoencoder = Sequential([encoder, decoder])"
   ]
  },
  {
   "cell_type": "code",
   "execution_count": 9,
   "id": "40d508fb",
   "metadata": {},
   "outputs": [
    {
     "name": "stdout",
     "output_type": "stream",
     "text": [
      "WARNING:tensorflow:From C:\\Users\\Somenath\\AppData\\Roaming\\Python\\Python311\\site-packages\\keras\\src\\optimizers\\__init__.py:309: The name tf.train.Optimizer is deprecated. Please use tf.compat.v1.train.Optimizer instead.\n",
      "\n"
     ]
    }
   ],
   "source": [
    "noise_remover_autoencoder.compile(loss='binary_crossentropy', optimizer='adam', metrics=['accuracy'])"
   ]
  },
  {
   "cell_type": "code",
   "execution_count": 10,
   "id": "3925f1f3",
   "metadata": {},
   "outputs": [
    {
     "name": "stdout",
     "output_type": "stream",
     "text": [
      "Epoch 1/8\n",
      "WARNING:tensorflow:From C:\\Users\\Somenath\\AppData\\Roaming\\Python\\Python311\\site-packages\\keras\\src\\utils\\tf_utils.py:492: The name tf.ragged.RaggedTensorValue is deprecated. Please use tf.compat.v1.ragged.RaggedTensorValue instead.\n",
      "\n",
      "WARNING:tensorflow:From C:\\Users\\Somenath\\AppData\\Roaming\\Python\\Python311\\site-packages\\keras\\src\\engine\\base_layer_utils.py:384: The name tf.executing_eagerly_outside_functions is deprecated. Please use tf.compat.v1.executing_eagerly_outside_functions instead.\n",
      "\n",
      "1875/1875 [==============================] - 22s 10ms/step - loss: 0.1744 - accuracy: 0.1769 - val_loss: 0.1380 - val_accuracy: 0.2242\n",
      "Epoch 2/8\n",
      "1875/1875 [==============================] - 19s 10ms/step - loss: 0.1319 - accuracy: 0.2311 - val_loss: 0.1248 - val_accuracy: 0.2316\n",
      "Epoch 3/8\n",
      "1875/1875 [==============================] - 19s 10ms/step - loss: 0.1220 - accuracy: 0.2446 - val_loss: 0.1142 - val_accuracy: 0.2516\n",
      "Epoch 4/8\n",
      "1875/1875 [==============================] - 19s 10ms/step - loss: 0.1162 - accuracy: 0.2529 - val_loss: 0.1098 - val_accuracy: 0.2619\n",
      "Epoch 5/8\n",
      "1875/1875 [==============================] - 20s 11ms/step - loss: 0.1131 - accuracy: 0.2589 - val_loss: 0.1076 - val_accuracy: 0.2605\n",
      "Epoch 6/8\n",
      "1875/1875 [==============================] - 20s 11ms/step - loss: 0.1105 - accuracy: 0.2644 - val_loss: 0.1075 - val_accuracy: 0.2644\n",
      "Epoch 7/8\n",
      "1875/1875 [==============================] - 20s 11ms/step - loss: 0.1085 - accuracy: 0.2683 - val_loss: 0.1056 - val_accuracy: 0.2673\n",
      "Epoch 8/8\n",
      "1875/1875 [==============================] - 19s 10ms/step - loss: 0.1066 - accuracy: 0.2718 - val_loss: 0.1038 - val_accuracy: 0.2718\n"
     ]
    },
    {
     "data": {
      "text/plain": [
       "<keras.src.callbacks.History at 0x20ef946a050>"
      ]
     },
     "execution_count": 10,
     "metadata": {},
     "output_type": "execute_result"
    }
   ],
   "source": [
    "noise_remover_autoencoder.fit(x=X_train_scaled, y=X_train_scaled, epochs=8, validation_data=[X_test_scaled, X_test_scaled])"
   ]
  },
  {
   "cell_type": "markdown",
   "id": "16b47559",
   "metadata": {},
   "source": [
    "## Creating 10 noisy images out of the testing images"
   ]
  },
  {
   "cell_type": "code",
   "execution_count": 11,
   "id": "b453650a",
   "metadata": {},
   "outputs": [],
   "source": [
    "gaussian_noise = GaussianNoise(0.2) "
   ]
  },
  {
   "cell_type": "code",
   "execution_count": 12,
   "id": "ab46dc33",
   "metadata": {},
   "outputs": [],
   "source": [
    "ten_noisy_images = gaussian_noise(X_test_scaled[:10], training=True)"
   ]
  },
  {
   "cell_type": "markdown",
   "id": "5261e12d",
   "metadata": {},
   "source": [
    "## Removing the noise from the images"
   ]
  },
  {
   "cell_type": "code",
   "execution_count": 13,
   "id": "4bcd9e56",
   "metadata": {},
   "outputs": [
    {
     "name": "stdout",
     "output_type": "stream",
     "text": [
      "1/1 [==============================] - 0s 258ms/step\n"
     ]
    }
   ],
   "source": [
    "denoised_images = noise_remover_autoencoder.predict(ten_noisy_images)"
   ]
  },
  {
   "cell_type": "markdown",
   "id": "9a6ae86f",
   "metadata": {},
   "source": [
    "## Comparing the Original Image, Noisy Image and the Image after Removal of Noise"
   ]
  },
  {
   "cell_type": "code",
   "execution_count": 14,
   "id": "e3f6dadb",
   "metadata": {},
   "outputs": [
    {
     "name": "stdout",
     "output_type": "stream",
     "text": [
      "ORIGINAL IMAGE\n"
     ]
    },
    {
     "data": {
      "image/png": "[encoded data removed]",
      "text/plain": [
       "<Figure size 640x480 with 1 Axes>"
      ]
     },
     "metadata": {},
     "output_type": "display_data"
    },
    {
     "name": "stdout",
     "output_type": "stream",
     "text": [
      "NOISY IMAGE\n"
     ]
    },
    {
     "data": {
      "image/png": "[encoded data removed]",
      "text/plain": [
       "<Figure size 640x480 with 1 Axes>"
      ]
     },
     "metadata": {},
     "output_type": "display_data"
    },
    {
     "name": "stdout",
     "output_type": "stream",
     "text": [
      "DENOSIED IMAGE\n"
     ]
    },
    {
     "data": {
      "image/png": "[encoded data removed]",
      "text/plain": [
       "<Figure size 640x480 with 1 Axes>"
      ]
     },
     "metadata": {},
     "output_type": "display_data"
    }
   ],
   "source": [
    "n = 0\n",
    "\n",
    "print(\"ORIGINAL IMAGE\")\n",
    "plt.imshow(X_test_scaled[n])\n",
    "\n",
    "plt.show()\n",
    "\n",
    "print(\"NOISY IMAGE\")\n",
    "\n",
    "plt.imshow(ten_noisy_images[n])\n",
    "\n",
    "plt.show()\n",
    "\n",
    "print(\"DENOSIED IMAGE\")\n",
    "\n",
    "plt.imshow(denoised_images[n])\n",
    "\n",
    "plt.show()\n"
   ]
  }
 ],
 "metadata": {
  "kernelspec": {
   "display_name": "Python 3 (ipykernel)",
   "language": "python",
   "name": "python3"
  },
  "language_info": {
   "codemirror_mode": {
    "name": "ipython",
    "version": 3
   },
   "file_extension": ".py",
   "mimetype": "text/x-python",
   "name": "python",
   "nbconvert_exporter": "python",
   "pygments_lexer": "ipython3",
   "version": "3.11.2"
  }
 },
 "nbformat": 4,
 "nbformat_minor": 5
}
